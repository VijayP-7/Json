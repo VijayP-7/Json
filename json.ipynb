{
 "cells": [
  {
   "cell_type": "markdown",
   "id": "df015d9f",
   "metadata": {},
   "source": [
    "# Json and OOPs [Assignment(1) :-"
   ]
  },
  {
   "cell_type": "code",
   "execution_count": 4,
   "id": "e659da8a",
   "metadata": {},
   "outputs": [
    {
     "name": "stdout",
     "output_type": "stream",
     "text": [
      "[{'name': 'vijay', 'dob': '2.10.97', 'height': '5.4', 'city': 'kalyan', 'state': 'maharashtra'}, {'name': 'kaushik', 'dob': '12.08.99', 'height': '5.10', 'city': 'jalgoan', 'state': 'maharashtra'}, {'name': 'aditya', 'dob': '24.02.98', 'height': '5.3', 'city': 'thane', 'state': 'maharashtra'}, {'name': 'aniket', 'dob': '6.06.96', 'height': '5.4', 'city': 'bhandup', 'state': 'maharashtra'}, {'name': 'abhi', 'dob': '11.05.93', 'height': '5.6', 'city': 'satara', 'state': 'maharashtra'}]\n"
     ]
    }
   ],
   "source": [
    "import json\n",
    "\n",
    "data_JSON =  \"\"\"\n",
    "{\n",
    "   \"employee.json\": [\n",
    "\n",
    "      {\n",
    "         \"name\": \"vijay\",\n",
    "         \"dob\": \"2.10.97\",\n",
    "         \"height\": \"5.4\",\n",
    "         \"city\": \"kalyan\",\n",
    "         \"state\": \"maharashtra\"\n",
    "      },\n",
    "\n",
    "      {\n",
    "         \"name\": \"kaushik\",\n",
    "         \"dob\": \"12.08.99\",\n",
    "         \"height\": \"5.10\",\n",
    "         \"city\": \"jalgoan\",\n",
    "         \"state\": \"maharashtra\"\n",
    "      },\n",
    "      {\n",
    "         \"name\": \"aditya\",\n",
    "         \"dob\": \"24.02.98\",\n",
    "         \"height\": \"5.3\",\n",
    "         \"city\": \"thane\",\n",
    "         \"state\": \"maharashtra\"\n",
    "       },\n",
    "       {\n",
    "         \"name\": \"aniket\",\n",
    "         \"dob\": \"6.06.96\",\n",
    "         \"height\": \"5.4\",\n",
    "         \"city\": \"bhandup\",\n",
    "         \"state\": \"maharashtra\"\n",
    "       },\n",
    "       {\n",
    "         \"name\": \"abhi\",\n",
    "         \"dob\": \"11.05.93\",\n",
    "         \"height\": \"5.6\",\n",
    "         \"city\": \"satara\",\n",
    "         \"state\": \"maharashtra\"\n",
    "       }\n",
    "   ]\n",
    "}\n",
    "\"\"\"\n",
    "\n",
    "data_dict = json.loads(data_JSON)\n",
    "print(data_dict[\"employee.json\"])"
   ]
  },
  {
   "cell_type": "markdown",
   "id": "f52868b1",
   "metadata": {},
   "source": [
    "## Assignment no(2):-"
   ]
  },
  {
   "cell_type": "code",
   "execution_count": 6,
   "id": "6e6618bf",
   "metadata": {},
   "outputs": [
    {
     "name": "stdout",
     "output_type": "stream",
     "text": [
      "name of the Dog is Jackson\n",
      "age of the dog is 5\n",
      "coat color of the dog is White\n",
      "height of Jack Russell Terrier is 25-38 cm\n",
      "weight of Jack Russell Terrier is 6-8 kg\n",
      "overall bodylength of Jack Russell  Terrier is 46-55cm\n",
      "Temprament of this dog breed is Intelligent, Stubbon, Athletic, Energetic, Fearless\n",
      "name of the Dog is Heather\n",
      "age of the dog is 7\n",
      "coat color of the dog is Brindle & White\n",
      "height of Bulldog is 31-40 cm\n",
      "weight of Bulldog is 23-25 kg\n",
      "overall bodylength of Bulldog is 51-69 cm\n",
      "Temprament of this dog breed is Docile, Friendly, Gregacious\n"
     ]
    }
   ],
   "source": [
    "# 1. Create a class named ‘Dog’. It should have a constructor which accepts its name, age and coat color.\n",
    "\n",
    "class Dog:\n",
    "    def __init__(self,name, age, coat_color):\n",
    "        self.name=name\n",
    "        self.age=age\n",
    "        self.coat_color=coat_color\n",
    "    def description(self):\n",
    "        print(f\"name of the Dog is {self.name}\")\n",
    "        print(f\"age of the dog is {self.age}\")\n",
    "        \n",
    "    def get_info(self):\n",
    "        print(f'coat color of the dog is {self.coat_color}')\n",
    "        \n",
    "class JackRussellTerrier(Dog):\n",
    "    def __init__(self,name, age, coat_color,hieght=\"25-38 cm\",mass=\"6-8 kg\",bodylength=\"46-55cm\"):\n",
    "        super().__init__(name, age, coat_color)\n",
    "        self.hieght=hieght\n",
    "        self.mass=mass\n",
    "        self.bodylength=bodylength\n",
    "    def lifespan(self,lifeline=\"Lifespan of this dog breed is 12-16 years\"):\n",
    "        print(lifeline)\n",
    "        \n",
    "    def temprament(self):\n",
    "        temper=\"Temprament of this dog breed is Intelligent, Stubbon, Athletic, Energetic, Fearless\"\n",
    "        print(temper)\n",
    "        \n",
    "    def getappearance(self):\n",
    "        print(f\"height of Jack Russell Terrier is {self.hieght}\")\n",
    "        print(f\"weight of Jack Russell Terrier is {self.mass}\")\n",
    "        print(f\"overall bodylength of Jack Russell  Terrier is {self.bodylength}\")\n",
    "         \n",
    "\n",
    "class Bulldog(Dog):\n",
    "    def __init__(self,name, age, coat_color,hieght=\"31-40 cm\",mass=\"23-25 kg\",bodylength=\"51-69 cm\"):\n",
    "        super().__init__(name, age, coat_color)\n",
    "        self.hieght=hieght\n",
    "        self.mass=mass\n",
    "        self.bodylength=bodylength\n",
    "        \n",
    "    def lifespan(self):\n",
    "        lifeline=\"Lifespan of this dog breed is 8-10 years\"\n",
    "        print(lifeline)\n",
    "        \n",
    "    def temprament(self):\n",
    "        temper=\"Temprament of this dog breed is Docile, Friendly, Gregacious\"\n",
    "        print(temper)\n",
    "        \n",
    "    def getappearance(self):\n",
    "        print(f\"height of Bulldog is {self.hieght}\")\n",
    "        print(f\"weight of Bulldog is {self.mass}\")\n",
    "        print(f\"overall bodylength of Bulldog is {self.bodylength}\")\n",
    "        \n",
    "\n",
    "J=JackRussellTerrier(\"Jackson\",5,\"White\")\n",
    "J.description()\n",
    "J.get_info()\n",
    "J.getappearance()\n",
    "J.temprament()\n",
    "\n",
    "B=Bulldog(\"Heather\", 7, \"Brindle & White\")\n",
    "B.description()\n",
    "B.get_info()\n",
    "B.getappearance()\n",
    "B.temprament()"
   ]
  },
  {
   "cell_type": "code",
   "execution_count": null,
   "id": "a76b9c1e",
   "metadata": {},
   "outputs": [],
   "source": []
  }
 ],
 "metadata": {
  "kernelspec": {
   "display_name": "Python 3 (ipykernel)",
   "language": "python",
   "name": "python3"
  },
  "language_info": {
   "codemirror_mode": {
    "name": "ipython",
    "version": 3
   },
   "file_extension": ".py",
   "mimetype": "text/x-python",
   "name": "python",
   "nbconvert_exporter": "python",
   "pygments_lexer": "ipython3",
   "version": "3.9.12"
  }
 },
 "nbformat": 4,
 "nbformat_minor": 5
}
